{
 "cells": [
  {
   "cell_type": "code",
   "execution_count": 4,
   "metadata": {},
   "outputs": [
    {
     "name": "stdout",
     "output_type": "stream",
     "text": [
      "안녕하세요! 저는 인공지능 언어 모델이에요. 텍스트 기반 질문에 대해 정보를 제공하거나 도움을 드릴 수 있습니다. 무엇을 도와드릴까요?\n"
     ]
    }
   ],
   "source": [
    "import ollama\n",
    "\n",
    "response = ollama.chat(\n",
    "    model=\"phi4:latest\",\n",
    "    messages=[\n",
    "        {\"role\": \"user\", \"content\": \"안녕 넌 누구야?\"}\n",
    "    ]\n",
    ")\n",
    "\n",
    "print(response.message.content)"
   ]
  },
  {
   "cell_type": "code",
   "execution_count": 7,
   "metadata": {},
   "outputs": [
    {
     "name": "stdout",
     "output_type": "stream",
     "text": [
      "황순원은 한국의 인기 작가로, 그녀의 작품들은 종종 역사적 배경과 현대적 감성이 섞인 이야기를 통해 독자들을 끌어들입니다. \"소나기\"는 황순원의 소설 중 하나로, 그녀가 창조한 다양한 캐릭터와 복잡한 감정이 가득한 이야기를 제공합니다.\n",
      "\n",
      "### 개요\n",
      "\n",
      "\"소나기\"는 일상 생활 속에서 자라난 사랑과 운명, 그리고 인간의 다양한 감정을 탐구하는 로맨스 작품입니다. 이 소설은 주로 주인공들이 겪는 개인적 성장과 각기 다른 배경에서 비롯된 복잡한 관계를 중심으로 구성되어 있습니다.\n",
      "\n",
      "### 주요 요소\n",
      "\n",
      "1. **주인공들의 특징**: 소설에 등장하는 주인공들은 서로 다른 사회적 배경과 개인적 역사를 가지고 있으며, 이는 그들이 마주치는 갈등과 감정의 깊이를 부각시킵니다. \n",
      "\n",
      "2. **사랑과 운명**: 황순원 작가의 많은 소설들처럼 \"소나기\" 역시 사랑과 운명이 주요 테마로 다뤄집니다. 독자는 각 캐릭터들이 어려운 선택을 하며 자신의 운명과 마주치는 과정에서 많은 생각거리를 얻게 됩니다.\n",
      "\n",
      "3. **심리적 깊이**: 황순원 작가는 캐릭터들의 심리와 감정을 세밀하게 묘사하는 데 있어 탁월한 기량을 보여줍니다. 이러한 깊은 심리적 탐구는 독자가 캐릭터들과 강력한 연결감을 느끼게 합니다.\n",
      "\n",
      "4. **현대 사회와의 연관성**: 소설은 현대 사회의 다양한 문제와 관련된 주제를 짚어가며, 이는 독자들이 자신의 경험과 연결지을 수 있는 기회를 제공합니다.\n",
      "\n",
      "### 읽기 전후의 느낌\n",
      "\n",
      "- **읽기 전**: \"소나기\"는 황순원의 다른 작품들처럼 예상치 못한 전개와 감정적 깊이를 제공하는지에 대해 기대감을 느낄 수 있습니다.\n",
      "- **읽은 후**: 이야기에서 나오는 강렬한 감정과 캐릭터들의 개인적 성장, 그리고 다양한 사랑의 모습에 대해 깊이 생각할 수 있습니다.\n",
      "\n",
      "### 결론\n",
      "\n",
      "황순원의 \"소나기\"는 사랑, 운명, 인간 관계를 탐구하는 작품으로, 독자들이 강렬한 감정적 경험을 하며 캐릭터들과 깊은 연결을 형성할 수 있는 소설입니다. 그녀의 세심한 이야기 구성과 심리적 탐구는 많은 독자들에게 강렬한 인상을 남깁니다."
     ]
    }
   ],
   "source": [
    "import ollama\n",
    "\n",
    "stream = ollama.chat(\n",
    "    model=\"phi4:latest\",\n",
    "    messages=[\n",
    "        {\"role\": \"user\", \"content\": \"황순원의 소설 소나기에 대해 설명해줘\"}\n",
    "    ],\n",
    "    stream=True    \n",
    ")\n",
    "\n",
    "for chunk in stream:\n",
    "    print(chunk.message.content, end=\"\", flush=True)"
   ]
  }
 ],
 "metadata": {
  "kernelspec": {
   "display_name": "Python 3",
   "language": "python",
   "name": "python3"
  },
  "language_info": {
   "codemirror_mode": {
    "name": "ipython",
    "version": 3
   },
   "file_extension": ".py",
   "mimetype": "text/x-python",
   "name": "python",
   "nbconvert_exporter": "python",
   "pygments_lexer": "ipython3",
   "version": "3.10.12"
  }
 },
 "nbformat": 4,
 "nbformat_minor": 2
}
